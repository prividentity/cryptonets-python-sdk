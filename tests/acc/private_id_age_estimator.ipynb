{
 "cells": [
  {
   "cell_type": "code",
   "execution_count": 1,
   "id": "afca14ce",
   "metadata": {},
   "outputs": [],
   "source": [
    "import csv\n",
    "import os\n",
    "import sys\n",
    "import time\n",
    "import pandas as pd\n",
    "\n",
    "from cryptonets_python_sdk.factor import FaceFactor\n",
    "from cryptonets_python_sdk.settings.loggingLevel import LoggingLevel\n",
    "from cryptonets_python_sdk.settings.configuration import ConfigObject\n",
    "from cryptonets_python_sdk.settings.configuration import PARAMETERS\n",
    "import os\n",
    "from os import path\n",
    "\n",
    "from tqdm import tqdm"
   ]
  },
  {
   "cell_type": "code",
   "execution_count": null,
   "id": "8a1ca5b6",
   "metadata": {},
   "outputs": [],
   "source": [
    "SERVER_URL='https://api.cryptonets.ai/node'\n",
    "API_KEY='accsb18b5f17d924db88'"
   ]
  },
  {
   "cell_type": "code",
   "execution_count": 3,
   "id": "01d1d63d",
   "metadata": {},
   "outputs": [],
   "source": [
    "def list_images(base_path):\n",
    "    # loop over the directory structure\n",
    "    image_types = (\".jpg\", \".jpeg\", \".png\", \".bmp\", \".tif\", \".tiff\")\n",
    "    for (rootDir, dirNames, filenames) in os.walk(base_path):\n",
    "        # loop over the filenames in the current directory\n",
    "        for filename in filenames:\n",
    "            # determine the file extension of the current file\n",
    "            ext = filename[filename.rfind(\".\"):].lower()\n",
    "            # check to see if the file is an image and should be processed\n",
    "            if ext.endswith(image_types):\n",
    "                # construct the path to the image and yield it\n",
    "                imagePath = os.path.join(rootDir, filename)\n",
    "                yield imagePath\n",
    "\n",
    "def parse_age(age_str):\n",
    "    try:\n",
    "        years_part, months_part = age_str.split(\",\")\n",
    "        years = int(years_part.replace(\"Years\", \"\").strip())\n",
    "        months = int(months_part.replace(\"Months\", \"\").strip())\n",
    "        return years + months/12\n",
    "    except:\n",
    "        return None"
   ]
  },
  {
   "cell_type": "code",
   "execution_count": 4,
   "id": "1d32e3a8",
   "metadata": {},
   "outputs": [
    {
     "name": "stdout",
     "output_type": "stream",
     "text": [
      "24.11.05.0\n",
      "Processing 30 images\n"
     ]
    },
    {
     "name": "stderr",
     "output_type": "stream",
     "text": [
      "100%|██████████| 30/30 [00:13<00:00,  2.19it/s]"
     ]
    },
    {
     "name": "stdout",
     "output_type": "stream",
     "text": [
      "\n",
      "Predictions saved to d:\\work\\privateid\\acc\\30-images\\result_with_predictions.csv\n"
     ]
    },
    {
     "name": "stderr",
     "output_type": "stream",
     "text": [
      "\n"
     ]
    }
   ],
   "source": [
    "config_param = {\n",
    "        PARAMETERS.INPUT_IMAGE_FORMAT: \"rgb\",\n",
    "        PARAMETERS.CONTEXT_STRING: \"predict\",\n",
    "    }\n",
    "\n",
    "config_object = ConfigObject(config_param)\n",
    "\n",
    "face_factor = FaceFactor(server_url=SERVER_URL, \n",
    "                        api_key=API_KEY,\n",
    "                        config=config_object,\n",
    "                        logging_level=LoggingLevel.full)\n",
    "\n",
    "try:\n",
    "    # Script mode\n",
    "    base_dir = os.path.dirname(__file__)\n",
    "except NameError:\n",
    "    # Notebook mode\n",
    "    base_dir = os.getcwd()\n",
    "\n",
    "image_folder_path = os.path.join(base_dir, \"30-images\") # sys.argv[1]\n",
    "\n",
    "# Read CSV data\n",
    "csv_path = path.join(image_folder_path, \"result.csv\")\n",
    "with open(csv_path, 'r') as f:\n",
    "    reader = csv.reader(f)\n",
    "    header = next(reader)  # Get original header row\n",
    "    rows = [row for row in reader]\n",
    "\n",
    "# Add new columns to header\n",
    "header.append(\"predicted age\")\n",
    "header.append(\"real age\")\n",
    "\n",
    "\n",
    "# Create prediction mapping\n",
    "predictions = {}\n",
    "\n",
    "image_path_list = list(list_images(image_folder_path))\n",
    "print(\"Processing {} images\".format(len(image_path_list)))\n",
    "\n",
    "# Read existing CSV data\n",
    "csv_path = path.join(image_folder_path, 'result.csv')\n",
    "df = pd.read_csv(csv_path)\n",
    "\n",
    "with open(f'result_{time.time_ns()}.csv', 'w', newline='') as csvfile:\n",
    "    fieldnames = ['image_path', 'error', 'message', 'return_code', 'return_message', 'age']\n",
    "    writer = csv.DictWriter(csvfile, fieldnames=fieldnames)\n",
    "    writer.writeheader()\n",
    "    for image_path in tqdm(image_path_list):\n",
    "        age_handle = face_factor.estimate_age(image_path=image_path)\n",
    "        age_result = {\"image_path\": image_path.replace(image_folder_path, \"\"), \"error\": age_handle.error,\n",
    "                        \"message\": age_handle.message}\n",
    "        for index, face in enumerate(age_handle.face_objects):\n",
    "            age_face_result = {\"return_code\": face.return_code, \"return_message\": face.message, \"age\": face.age}\n",
    "            \n",
    "            # Extract SELFIEIMAGEID from filename (e.g. 0010008_0.jpg -> 10008)\n",
    "            filename = path.basename(image_path)\n",
    "            selfie_id = filename.split(\"_\")[0].lstrip(\"0\")\n",
    "            predictions[selfie_id] = face.age\n",
    "\n",
    "            age_face_result = age_result | age_face_result\n",
    "            writer.writerow(age_face_result)\n",
    "\n",
    "# Add predictions to CSV rows\n",
    "for row in rows:\n",
    "    selfie_id = row[4].strip()  # SELFIEIMAGEID is 5th column (index 4)\n",
    "    row.append(str(predictions.get(selfie_id, \"N/A\")))\n",
    "    # Calculate real age\n",
    "    age_str = row[2].strip()  # AGEOFVISITMONTHS is 3rd column (index 2)\n",
    "    real_age = parse_age(age_str)\n",
    "    row.append(str(real_age) if real_age is not None else \"N/A\")\n",
    "\n",
    "# Write updated CSV\n",
    "output_path = path.join(image_folder_path, \"result_with_predictions.csv\")\n",
    "with open(output_path, 'w', newline='') as f:\n",
    "    writer = csv.writer(f)\n",
    "    writer.writerow(header)\n",
    "    writer.writerows(rows)\n",
    "print(f\"\\nPredictions saved to {output_path}\")"
   ]
  }
 ],
 "metadata": {
  "kernelspec": {
   "display_name": ".venv",
   "language": "python",
   "name": "python3"
  },
  "language_info": {
   "codemirror_mode": {
    "name": "ipython",
    "version": 3
   },
   "file_extension": ".py",
   "mimetype": "text/x-python",
   "name": "python",
   "nbconvert_exporter": "python",
   "pygments_lexer": "ipython3",
   "version": "3.12.0"
  }
 },
 "nbformat": 4,
 "nbformat_minor": 5
}
